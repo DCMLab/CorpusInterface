{
 "cells": [
  {
   "cell_type": "code",
   "execution_count": 1,
   "metadata": {},
   "outputs": [],
   "source": [
    "from CorpusInterface import get_list, load"
   ]
  },
  {
   "cell_type": "code",
   "execution_count": 2,
   "metadata": {},
   "outputs": [
    {
     "data": {
      "text/html": [
       "<div>\n",
       "<style scoped>\n",
       "    .dataframe tbody tr th:only-of-type {\n",
       "        vertical-align: middle;\n",
       "    }\n",
       "\n",
       "    .dataframe tbody tr th {\n",
       "        vertical-align: top;\n",
       "    }\n",
       "\n",
       "    .dataframe thead th {\n",
       "        text-align: right;\n",
       "    }\n",
       "</style>\n",
       "<table border=\"1\" class=\"dataframe\">\n",
       "  <thead>\n",
       "    <tr style=\"text-align: right;\">\n",
       "      <th></th>\n",
       "      <th>Name</th>\n",
       "      <th>Parent</th>\n",
       "      <th>AccessMethod</th>\n",
       "      <th>URL</th>\n",
       "      <th>Root</th>\n",
       "      <th>CorpusType</th>\n",
       "      <th>RegEx</th>\n",
       "      <th>ContentType</th>\n",
       "      <th>Metadata</th>\n",
       "    </tr>\n",
       "  </thead>\n",
       "  <tbody>\n",
       "    <tr>\n",
       "      <td>0</td>\n",
       "      <td>ABC</td>\n",
       "      <td>NaN</td>\n",
       "      <td>git</td>\n",
       "      <td>git@github.com:DCMLab/ABC.git</td>\n",
       "      <td>NaN</td>\n",
       "      <td>NaN</td>\n",
       "      <td>NaN</td>\n",
       "      <td>NaN</td>\n",
       "      <td>NaN</td>\n",
       "    </tr>\n",
       "    <tr>\n",
       "      <td>1</td>\n",
       "      <td>ABC_labels</td>\n",
       "      <td>ABC</td>\n",
       "      <td>NaN</td>\n",
       "      <td>NaN</td>\n",
       "      <td>data/tsv</td>\n",
       "      <td>files</td>\n",
       "      <td>^.*\\.tsv$</td>\n",
       "      <td>tsv</td>\n",
       "      <td>NaN</td>\n",
       "    </tr>\n",
       "    <tr>\n",
       "      <td>2</td>\n",
       "      <td>ABC_scores</td>\n",
       "      <td>ABC</td>\n",
       "      <td>NaN</td>\n",
       "      <td>NaN</td>\n",
       "      <td>data/mscx</td>\n",
       "      <td>files</td>\n",
       "      <td>^.*\\.mscx$</td>\n",
       "      <td>mscx</td>\n",
       "      <td>NaN</td>\n",
       "    </tr>\n",
       "    <tr>\n",
       "      <td>3</td>\n",
       "      <td>Lakh_clean</td>\n",
       "      <td>NaN</td>\n",
       "      <td>tar.gz</td>\n",
       "      <td>http://hog.ee.columbia.edu/craffel/lmd/clean_m...</td>\n",
       "      <td>NaN</td>\n",
       "      <td>files</td>\n",
       "      <td>^.*\\.mid$</td>\n",
       "      <td>midi</td>\n",
       "      <td>NaN</td>\n",
       "    </tr>\n",
       "  </tbody>\n",
       "</table>\n",
       "</div>"
      ],
      "text/plain": [
       "         Name Parent AccessMethod  \\\n",
       "0         ABC    NaN          git   \n",
       "1  ABC_labels    ABC          NaN   \n",
       "2  ABC_scores    ABC          NaN   \n",
       "3  Lakh_clean    NaN       tar.gz   \n",
       "\n",
       "                                                 URL       Root CorpusType  \\\n",
       "0                      git@github.com:DCMLab/ABC.git        NaN        NaN   \n",
       "1                                                NaN   data/tsv      files   \n",
       "2                                                NaN  data/mscx      files   \n",
       "3  http://hog.ee.columbia.edu/craffel/lmd/clean_m...        NaN      files   \n",
       "\n",
       "        RegEx ContentType  Metadata  \n",
       "0         NaN         NaN       NaN  \n",
       "1   ^.*\\.tsv$         tsv       NaN  \n",
       "2  ^.*\\.mscx$        mscx       NaN  \n",
       "3   ^.*\\.mid$        midi       NaN  "
      ]
     },
     "execution_count": 2,
     "metadata": {},
     "output_type": "execute_result"
    }
   ],
   "source": [
    "# get a list of the available corpora\n",
    "get_list()"
   ]
  },
  {
   "cell_type": "code",
   "execution_count": 3,
   "metadata": {},
   "outputs": [
    {
     "data": {
      "text/plain": [
       "[Event(time=LinearTime(4.0), duration=LinearTimeDuration(1.0), data=MIDIPitch(37)),\n",
       " Event(time=LinearTime(4.0), duration=LinearTimeDuration(0.25), data=MIDIPitch(70)),\n",
       " Event(time=LinearTime(4.0), duration=LinearTimeDuration(0.25), data=MIDIPitch(35)),\n",
       " Event(time=LinearTime(4.0), duration=LinearTimeDuration(0.25), data=MIDIPitch(84)),\n",
       " Event(time=LinearTime(4.0), duration=LinearTimeDuration(1.75), data=MIDIPitch(44)),\n",
       " Event(time=LinearTime(4.0), duration=LinearTimeDuration(0.25), data=MIDIPitch(84)),\n",
       " Event(time=LinearTime(4.0), duration=LinearTimeDuration(1.75), data=MIDIPitch(44)),\n",
       " Event(time=LinearTime(4.0), duration=LinearTimeDuration(1.75), data=MIDIPitch(32)),\n",
       " Event(time=LinearTime(4.5), duration=LinearTimeDuration(0.25), data=MIDIPitch(70)),\n",
       " Event(time=LinearTime(4.75), duration=LinearTimeDuration(0.25), data=MIDIPitch(72))]"
      ]
     },
     "execution_count": 3,
     "metadata": {},
     "output_type": "execute_result"
    }
   ],
   "source": [
    "# load a corpus (allow downloading)\n",
    "corpus = load(name=\"Lakh_clean\", allow_download=True)\n",
    "# corpora are iterable --> get a list of the pieces\n",
    "pieces = list(corpus)\n",
    "# get the data of the first piece\n",
    "data = pieces[0].data()\n",
    "# show the first 10 events\n",
    "data[:10]"
   ]
  }
 ],
 "metadata": {
  "kernelspec": {
   "display_name": "Python 3",
   "language": "python",
   "name": "python3"
  },
  "language_info": {
   "codemirror_mode": {
    "name": "ipython",
    "version": 3
   },
   "file_extension": ".py",
   "mimetype": "text/x-python",
   "name": "python",
   "nbconvert_exporter": "python",
   "pygments_lexer": "ipython3",
   "version": "3.6.7"
  }
 },
 "nbformat": 4,
 "nbformat_minor": 2
}
